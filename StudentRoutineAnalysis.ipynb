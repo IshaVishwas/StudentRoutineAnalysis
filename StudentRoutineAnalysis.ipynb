{
  "nbformat": 4,
  "nbformat_minor": 0,
  "metadata": {
    "colab": {
      "provenance": []
    },
    "kernelspec": {
      "name": "python3",
      "display_name": "Python 3"
    },
    "language_info": {
      "name": "python"
    },
    "widgets": {
      "application/vnd.jupyter.widget-state+json": {
        "26b821f731144a3bb44bd32b40cf88e0": {
          "model_module": "@jupyter-widgets/controls",
          "model_name": "IntTextModel",
          "model_module_version": "1.5.0",
          "state": {
            "_dom_classes": [],
            "_model_module": "@jupyter-widgets/controls",
            "_model_module_version": "1.5.0",
            "_model_name": "IntTextModel",
            "_view_count": null,
            "_view_module": "@jupyter-widgets/controls",
            "_view_module_version": "1.5.0",
            "_view_name": "IntTextView",
            "continuous_update": false,
            "description": "Study Hours",
            "description_tooltip": null,
            "disabled": false,
            "layout": "IPY_MODEL_84ae923413324033bc2c057e9eab4e84",
            "step": 1,
            "style": "IPY_MODEL_bf7a6afc5abc4eeea79d500d810e195c",
            "value": 6
          }
        },
        "84ae923413324033bc2c057e9eab4e84": {
          "model_module": "@jupyter-widgets/base",
          "model_name": "LayoutModel",
          "model_module_version": "1.2.0",
          "state": {
            "_model_module": "@jupyter-widgets/base",
            "_model_module_version": "1.2.0",
            "_model_name": "LayoutModel",
            "_view_count": null,
            "_view_module": "@jupyter-widgets/base",
            "_view_module_version": "1.2.0",
            "_view_name": "LayoutView",
            "align_content": null,
            "align_items": null,
            "align_self": null,
            "border": null,
            "bottom": null,
            "display": null,
            "flex": null,
            "flex_flow": null,
            "grid_area": null,
            "grid_auto_columns": null,
            "grid_auto_flow": null,
            "grid_auto_rows": null,
            "grid_column": null,
            "grid_gap": null,
            "grid_row": null,
            "grid_template_areas": null,
            "grid_template_columns": null,
            "grid_template_rows": null,
            "height": null,
            "justify_content": null,
            "justify_items": null,
            "left": null,
            "margin": null,
            "max_height": null,
            "max_width": null,
            "min_height": null,
            "min_width": null,
            "object_fit": null,
            "object_position": null,
            "order": null,
            "overflow": null,
            "overflow_x": null,
            "overflow_y": null,
            "padding": null,
            "right": null,
            "top": null,
            "visibility": null,
            "width": null
          }
        },
        "bf7a6afc5abc4eeea79d500d810e195c": {
          "model_module": "@jupyter-widgets/controls",
          "model_name": "DescriptionStyleModel",
          "model_module_version": "1.5.0",
          "state": {
            "_model_module": "@jupyter-widgets/controls",
            "_model_module_version": "1.5.0",
            "_model_name": "DescriptionStyleModel",
            "_view_count": null,
            "_view_module": "@jupyter-widgets/base",
            "_view_module_version": "1.2.0",
            "_view_name": "StyleView",
            "description_width": ""
          }
        },
        "2e6a43ddb2e5438aaa68fcc3413d4104": {
          "model_module": "@jupyter-widgets/controls",
          "model_name": "IntTextModel",
          "model_module_version": "1.5.0",
          "state": {
            "_dom_classes": [],
            "_model_module": "@jupyter-widgets/controls",
            "_model_module_version": "1.5.0",
            "_model_name": "IntTextModel",
            "_view_count": null,
            "_view_module": "@jupyter-widgets/controls",
            "_view_module_version": "1.5.0",
            "_view_name": "IntTextView",
            "continuous_update": false,
            "description": "Sleep Hours",
            "description_tooltip": null,
            "disabled": false,
            "layout": "IPY_MODEL_7adfb3f2cac2462888790427a999c7db",
            "step": 1,
            "style": "IPY_MODEL_22113c9b0bd641b89b4a3a253a6aa5ef",
            "value": 8
          }
        },
        "7adfb3f2cac2462888790427a999c7db": {
          "model_module": "@jupyter-widgets/base",
          "model_name": "LayoutModel",
          "model_module_version": "1.2.0",
          "state": {
            "_model_module": "@jupyter-widgets/base",
            "_model_module_version": "1.2.0",
            "_model_name": "LayoutModel",
            "_view_count": null,
            "_view_module": "@jupyter-widgets/base",
            "_view_module_version": "1.2.0",
            "_view_name": "LayoutView",
            "align_content": null,
            "align_items": null,
            "align_self": null,
            "border": null,
            "bottom": null,
            "display": null,
            "flex": null,
            "flex_flow": null,
            "grid_area": null,
            "grid_auto_columns": null,
            "grid_auto_flow": null,
            "grid_auto_rows": null,
            "grid_column": null,
            "grid_gap": null,
            "grid_row": null,
            "grid_template_areas": null,
            "grid_template_columns": null,
            "grid_template_rows": null,
            "height": null,
            "justify_content": null,
            "justify_items": null,
            "left": null,
            "margin": null,
            "max_height": null,
            "max_width": null,
            "min_height": null,
            "min_width": null,
            "object_fit": null,
            "object_position": null,
            "order": null,
            "overflow": null,
            "overflow_x": null,
            "overflow_y": null,
            "padding": null,
            "right": null,
            "top": null,
            "visibility": null,
            "width": null
          }
        },
        "22113c9b0bd641b89b4a3a253a6aa5ef": {
          "model_module": "@jupyter-widgets/controls",
          "model_name": "DescriptionStyleModel",
          "model_module_version": "1.5.0",
          "state": {
            "_model_module": "@jupyter-widgets/controls",
            "_model_module_version": "1.5.0",
            "_model_name": "DescriptionStyleModel",
            "_view_count": null,
            "_view_module": "@jupyter-widgets/base",
            "_view_module_version": "1.2.0",
            "_view_name": "StyleView",
            "description_width": ""
          }
        },
        "6aeb4037ca6341339b47e3b25e62549f": {
          "model_module": "@jupyter-widgets/controls",
          "model_name": "IntTextModel",
          "model_module_version": "1.5.0",
          "state": {
            "_dom_classes": [],
            "_model_module": "@jupyter-widgets/controls",
            "_model_module_version": "1.5.0",
            "_model_name": "IntTextModel",
            "_view_count": null,
            "_view_module": "@jupyter-widgets/controls",
            "_view_module_version": "1.5.0",
            "_view_name": "IntTextView",
            "continuous_update": false,
            "description": "Exercise Hours",
            "description_tooltip": null,
            "disabled": false,
            "layout": "IPY_MODEL_bb4025f46fcd4e9bb04a93309ca75f83",
            "step": 1,
            "style": "IPY_MODEL_439166808c1a4f6f80818c59bc7e6938",
            "value": 1
          }
        },
        "bb4025f46fcd4e9bb04a93309ca75f83": {
          "model_module": "@jupyter-widgets/base",
          "model_name": "LayoutModel",
          "model_module_version": "1.2.0",
          "state": {
            "_model_module": "@jupyter-widgets/base",
            "_model_module_version": "1.2.0",
            "_model_name": "LayoutModel",
            "_view_count": null,
            "_view_module": "@jupyter-widgets/base",
            "_view_module_version": "1.2.0",
            "_view_name": "LayoutView",
            "align_content": null,
            "align_items": null,
            "align_self": null,
            "border": null,
            "bottom": null,
            "display": null,
            "flex": null,
            "flex_flow": null,
            "grid_area": null,
            "grid_auto_columns": null,
            "grid_auto_flow": null,
            "grid_auto_rows": null,
            "grid_column": null,
            "grid_gap": null,
            "grid_row": null,
            "grid_template_areas": null,
            "grid_template_columns": null,
            "grid_template_rows": null,
            "height": null,
            "justify_content": null,
            "justify_items": null,
            "left": null,
            "margin": null,
            "max_height": null,
            "max_width": null,
            "min_height": null,
            "min_width": null,
            "object_fit": null,
            "object_position": null,
            "order": null,
            "overflow": null,
            "overflow_x": null,
            "overflow_y": null,
            "padding": null,
            "right": null,
            "top": null,
            "visibility": null,
            "width": null
          }
        },
        "439166808c1a4f6f80818c59bc7e6938": {
          "model_module": "@jupyter-widgets/controls",
          "model_name": "DescriptionStyleModel",
          "model_module_version": "1.5.0",
          "state": {
            "_model_module": "@jupyter-widgets/controls",
            "_model_module_version": "1.5.0",
            "_model_name": "DescriptionStyleModel",
            "_view_count": null,
            "_view_module": "@jupyter-widgets/base",
            "_view_module_version": "1.2.0",
            "_view_name": "StyleView",
            "description_width": ""
          }
        },
        "7a84b67ebf474a72b2cc1000bd2359bb": {
          "model_module": "@jupyter-widgets/controls",
          "model_name": "DropdownModel",
          "model_module_version": "1.5.0",
          "state": {
            "_dom_classes": [],
            "_model_module": "@jupyter-widgets/controls",
            "_model_module_version": "1.5.0",
            "_model_name": "DropdownModel",
            "_options_labels": [
              "0",
              "1"
            ],
            "_view_count": null,
            "_view_module": "@jupyter-widgets/controls",
            "_view_module_version": "1.5.0",
            "_view_name": "DropdownView",
            "description": "Focus Level",
            "description_tooltip": null,
            "disabled": false,
            "index": 0,
            "layout": "IPY_MODEL_6a24c0cb04d1457abdbfbbd96ae3bebf",
            "style": "IPY_MODEL_c8b08c1884b042b094a4f1ff753da2fb"
          }
        },
        "6a24c0cb04d1457abdbfbbd96ae3bebf": {
          "model_module": "@jupyter-widgets/base",
          "model_name": "LayoutModel",
          "model_module_version": "1.2.0",
          "state": {
            "_model_module": "@jupyter-widgets/base",
            "_model_module_version": "1.2.0",
            "_model_name": "LayoutModel",
            "_view_count": null,
            "_view_module": "@jupyter-widgets/base",
            "_view_module_version": "1.2.0",
            "_view_name": "LayoutView",
            "align_content": null,
            "align_items": null,
            "align_self": null,
            "border": null,
            "bottom": null,
            "display": null,
            "flex": null,
            "flex_flow": null,
            "grid_area": null,
            "grid_auto_columns": null,
            "grid_auto_flow": null,
            "grid_auto_rows": null,
            "grid_column": null,
            "grid_gap": null,
            "grid_row": null,
            "grid_template_areas": null,
            "grid_template_columns": null,
            "grid_template_rows": null,
            "height": null,
            "justify_content": null,
            "justify_items": null,
            "left": null,
            "margin": null,
            "max_height": null,
            "max_width": null,
            "min_height": null,
            "min_width": null,
            "object_fit": null,
            "object_position": null,
            "order": null,
            "overflow": null,
            "overflow_x": null,
            "overflow_y": null,
            "padding": null,
            "right": null,
            "top": null,
            "visibility": null,
            "width": null
          }
        },
        "c8b08c1884b042b094a4f1ff753da2fb": {
          "model_module": "@jupyter-widgets/controls",
          "model_name": "DescriptionStyleModel",
          "model_module_version": "1.5.0",
          "state": {
            "_model_module": "@jupyter-widgets/controls",
            "_model_module_version": "1.5.0",
            "_model_name": "DescriptionStyleModel",
            "_view_count": null,
            "_view_module": "@jupyter-widgets/base",
            "_view_module_version": "1.2.0",
            "_view_name": "StyleView",
            "description_width": ""
          }
        },
        "3c08a68d01b046fe8d2d3734ee29b7fe": {
          "model_module": "@jupyter-widgets/controls",
          "model_name": "ButtonModel",
          "model_module_version": "1.5.0",
          "state": {
            "_dom_classes": [],
            "_model_module": "@jupyter-widgets/controls",
            "_model_module_version": "1.5.0",
            "_model_name": "ButtonModel",
            "_view_count": null,
            "_view_module": "@jupyter-widgets/controls",
            "_view_module_version": "1.5.0",
            "_view_name": "ButtonView",
            "button_style": "",
            "description": "Get Suggested Routine",
            "disabled": false,
            "icon": "",
            "layout": "IPY_MODEL_72b9dfe768514d448fc6d2f63ea5c344",
            "style": "IPY_MODEL_f5f9f2de312744128ba44b0abd74482d",
            "tooltip": ""
          }
        },
        "72b9dfe768514d448fc6d2f63ea5c344": {
          "model_module": "@jupyter-widgets/base",
          "model_name": "LayoutModel",
          "model_module_version": "1.2.0",
          "state": {
            "_model_module": "@jupyter-widgets/base",
            "_model_module_version": "1.2.0",
            "_model_name": "LayoutModel",
            "_view_count": null,
            "_view_module": "@jupyter-widgets/base",
            "_view_module_version": "1.2.0",
            "_view_name": "LayoutView",
            "align_content": null,
            "align_items": null,
            "align_self": null,
            "border": null,
            "bottom": null,
            "display": null,
            "flex": null,
            "flex_flow": null,
            "grid_area": null,
            "grid_auto_columns": null,
            "grid_auto_flow": null,
            "grid_auto_rows": null,
            "grid_column": null,
            "grid_gap": null,
            "grid_row": null,
            "grid_template_areas": null,
            "grid_template_columns": null,
            "grid_template_rows": null,
            "height": null,
            "justify_content": null,
            "justify_items": null,
            "left": null,
            "margin": null,
            "max_height": null,
            "max_width": null,
            "min_height": null,
            "min_width": null,
            "object_fit": null,
            "object_position": null,
            "order": null,
            "overflow": null,
            "overflow_x": null,
            "overflow_y": null,
            "padding": null,
            "right": null,
            "top": null,
            "visibility": null,
            "width": null
          }
        },
        "f5f9f2de312744128ba44b0abd74482d": {
          "model_module": "@jupyter-widgets/controls",
          "model_name": "ButtonStyleModel",
          "model_module_version": "1.5.0",
          "state": {
            "_model_module": "@jupyter-widgets/controls",
            "_model_module_version": "1.5.0",
            "_model_name": "ButtonStyleModel",
            "_view_count": null,
            "_view_module": "@jupyter-widgets/base",
            "_view_module_version": "1.2.0",
            "_view_name": "StyleView",
            "button_color": null,
            "font_weight": ""
          }
        }
      }
    }
  },
  "cells": [
    {
      "cell_type": "code",
      "source": [
        "import pandas as pd\n",
        "\n",
        "# Load the CSV file\n",
        "file_path = '/content/student_survey_data.csv'  # Replace with the actual file path\n",
        "df = pd.read_csv(file_path)\n",
        "\n",
        "# Display the first few rows to verify data loading\n",
        "print(df.head())\n"
      ],
      "metadata": {
        "colab": {
          "base_uri": "https://localhost:8080/"
        },
        "id": "iIaaTUqWDgPS",
        "outputId": "a6204e17-05b6-4e9a-e1f0-7f01f4dd4d0c"
      },
      "execution_count": 2,
      "outputs": [
        {
          "output_type": "stream",
          "name": "stdout",
          "text": [
            "   Age Year Primary_Area_of_Study  Study_Hours  Exercise_Hours  Sleep_Hours  \\\n",
            "0   24  4th               Biology     4.061576        1.091928     8.478252   \n",
            "1   21  2nd           Mathematics     4.216308        1.288949     6.120532   \n",
            "2   22  3rd               Biology     5.019551        2.067321     6.208280   \n",
            "3   24  4th               Physics     5.566654        1.113424     5.828023   \n",
            "4   20  1st               Biology     5.094237        1.827731     5.413536   \n",
            "\n",
            "   Social_Hours  Class_Hours  Other_Hours Difficulty_in_Routine  \\\n",
            "0      3.212156     3.000000     2.789983              Moderate   \n",
            "1      1.855951     5.241714     2.052460              Moderate   \n",
            "2      2.128041     6.000000     1.444250                  High   \n",
            "3      1.518662     3.000000     1.000000                   Low   \n",
            "4      0.851945     3.000000     3.161353              Moderate   \n",
            "\n",
            "  Time_Management_Challenge  Total_Hours  \n",
            "0                       NaN    22.633895  \n",
            "1                  Somewhat    20.775913  \n",
            "2                  Somewhat    22.867443  \n",
            "3                       NaN    18.026764  \n",
            "4                  Somewhat    19.348802  \n"
          ]
        }
      ]
    },
    {
      "cell_type": "code",
      "source": [
        "# Check for missing values\n",
        "missing_values = df.isnull().sum()\n",
        "print(\"Missing Values:\\n\", missing_values)\n"
      ],
      "metadata": {
        "colab": {
          "base_uri": "https://localhost:8080/"
        },
        "id": "xjenms6OG1kd",
        "outputId": "61eb84e4-adb8-460e-f7f1-e9ed82fa4fd2"
      },
      "execution_count": 3,
      "outputs": [
        {
          "output_type": "stream",
          "name": "stdout",
          "text": [
            "Missing Values:\n",
            " Age                           0\n",
            "Year                          0\n",
            "Primary_Area_of_Study         0\n",
            "Study_Hours                   0\n",
            "Exercise_Hours                0\n",
            "Sleep_Hours                   0\n",
            "Social_Hours                  0\n",
            "Class_Hours                   0\n",
            "Other_Hours                   0\n",
            "Difficulty_in_Routine         0\n",
            "Time_Management_Challenge    32\n",
            "Total_Hours                   0\n",
            "dtype: int64\n"
          ]
        }
      ]
    },
    {
      "cell_type": "code",
      "source": [
        "# Find the most frequent value (mode) in 'Time_Management_Challenge'\n",
        "mode_value = df['Time_Management_Challenge'].mode()[0]\n",
        "\n",
        "# Fill NaN values with the mode (most frequent value)\n",
        "df['Time_Management_Challenge'] = df['Time_Management_Challenge'].fillna(mode_value)\n",
        "\n",
        "# Verify the result\n",
        "print(df[['Time_Management_Challenge']].head())\n"
      ],
      "metadata": {
        "colab": {
          "base_uri": "https://localhost:8080/"
        },
        "id": "Io0Vf9Q7Hb-t",
        "outputId": "b40e32cb-bf85-4eb2-a755-94a3d928826c"
      },
      "execution_count": 4,
      "outputs": [
        {
          "output_type": "stream",
          "name": "stdout",
          "text": [
            "  Time_Management_Challenge\n",
            "0               Significant\n",
            "1                  Somewhat\n",
            "2                  Somewhat\n",
            "3               Significant\n",
            "4                  Somewhat\n"
          ]
        }
      ]
    },
    {
      "cell_type": "code",
      "source": [
        "# Check for missing values\n",
        "missing_values = df.isnull().sum()\n",
        "print(\"Missing Values:\\n\", missing_values)"
      ],
      "metadata": {
        "colab": {
          "base_uri": "https://localhost:8080/"
        },
        "id": "BmEYMiFsHfwT",
        "outputId": "0d06329f-5961-457a-ffaf-2fa54c5c9763"
      },
      "execution_count": 5,
      "outputs": [
        {
          "output_type": "stream",
          "name": "stdout",
          "text": [
            "Missing Values:\n",
            " Age                          0\n",
            "Year                         0\n",
            "Primary_Area_of_Study        0\n",
            "Study_Hours                  0\n",
            "Exercise_Hours               0\n",
            "Sleep_Hours                  0\n",
            "Social_Hours                 0\n",
            "Class_Hours                  0\n",
            "Other_Hours                  0\n",
            "Difficulty_in_Routine        0\n",
            "Time_Management_Challenge    0\n",
            "Total_Hours                  0\n",
            "dtype: int64\n"
          ]
        }
      ]
    },
    {
      "cell_type": "code",
      "source": [
        "# Display summary statistics\n",
        "summary_statistics = df.describe()\n",
        "print(\"\\nSummary Statistics:\\n\", summary_statistics)"
      ],
      "metadata": {
        "colab": {
          "base_uri": "https://localhost:8080/"
        },
        "id": "FWQ26GouHlHh",
        "outputId": "bccb22b9-60c1-4b6a-b0df-977998363868"
      },
      "execution_count": 6,
      "outputs": [
        {
          "output_type": "stream",
          "name": "stdout",
          "text": [
            "\n",
            "Summary Statistics:\n",
            "               Age  Study_Hours  Exercise_Hours  Sleep_Hours  Social_Hours  \\\n",
            "count  100.000000   100.000000      100.000000   100.000000    100.000000   \n",
            "mean    21.210000     4.751848        1.099806     6.969174      2.035539   \n",
            "std      1.913773     1.561339        0.468915     0.983239      1.016845   \n",
            "min     18.000000     1.000000        0.500000     5.000000      0.000000   \n",
            "25%     19.750000     3.562273        0.704770     6.289283      1.284975   \n",
            "50%     21.000000     4.808495        1.071015     6.902429      2.053701   \n",
            "75%     23.000000     5.714280        1.443449     7.778143      2.656831   \n",
            "max     24.000000     8.410018        2.593517     8.727748      4.172842   \n",
            "\n",
            "       Class_Hours  Other_Hours  Total_Hours  \n",
            "count   100.000000   100.000000   100.000000  \n",
            "mean      4.154711     3.035987    22.047064  \n",
            "std       0.921403     1.035869     2.323225  \n",
            "min       3.000000     1.000000    17.621493  \n",
            "25%       3.357410     2.316015    20.606841  \n",
            "50%       4.071096     3.094071    22.138658  \n",
            "75%       4.760196     3.952985    23.472910  \n",
            "max       6.000000     5.000000    28.905053  \n"
          ]
        }
      ]
    },
    {
      "cell_type": "code",
      "source": [
        "average_study_hours = df['Study_Hours'].mean()\n",
        "df['Focus_Level'] = df['Study_Hours'].apply(lambda x: 1 if x > average_study_hours else 0)\n",
        "print(df[['Study_Hours', 'Focus_Level']].head())"
      ],
      "metadata": {
        "colab": {
          "base_uri": "https://localhost:8080/"
        },
        "id": "tanakQAhHqBx",
        "outputId": "9b0199c0-448f-4d73-d70d-949d6678f947"
      },
      "execution_count": 7,
      "outputs": [
        {
          "output_type": "stream",
          "name": "stdout",
          "text": [
            "   Study_Hours  Focus_Level\n",
            "0     4.061576            0\n",
            "1     4.216308            0\n",
            "2     5.019551            1\n",
            "3     5.566654            1\n",
            "4     5.094237            1\n"
          ]
        }
      ]
    },
    {
      "cell_type": "code",
      "source": [
        "df['Activity_Balance'] = (df['Study_Hours'] + df['Class_Hours']) / (df['Exercise_Hours'] + df['Social_Hours'] + 0.01)\n",
        "print(df[['Study_Hours', 'Class_Hours', 'Exercise_Hours', 'Social_Hours', 'Activity_Balance']].head())"
      ],
      "metadata": {
        "colab": {
          "base_uri": "https://localhost:8080/"
        },
        "id": "CkmAefn9Hv7p",
        "outputId": "4cf16536-8750-4a7a-97cf-e857f6f60947"
      },
      "execution_count": 8,
      "outputs": [
        {
          "output_type": "stream",
          "name": "stdout",
          "text": [
            "   Study_Hours  Class_Hours  Exercise_Hours  Social_Hours  Activity_Balance\n",
            "0     4.061576     3.000000        1.091928      3.212156          1.636865\n",
            "1     4.216308     5.241714        1.288949      1.855951          2.997884\n",
            "2     5.019551     6.000000        2.067321      2.128041          2.620357\n",
            "3     5.566654     3.000000        1.113424      1.518662          3.242383\n",
            "4     5.094237     3.000000        1.827731      0.851945          3.009373\n"
          ]
        }
      ]
    },
    {
      "cell_type": "code",
      "source": [
        "df['Year'] = df['Year'].map({'1st': 1, '2nd': 2, '3rd': 3, '4th': 4})\n",
        "df['Primary_Area_of_Study'] = df['Primary_Area_of_Study'].astype('category').cat.codes\n",
        "df['Difficulty_in_Routine'] = df['Difficulty_in_Routine'].map({'Low': 0, 'Moderate': 1, 'High': 2})\n",
        "df['Time_Management_Challenge'] = df['Time_Management_Challenge'].map({'None': 0, 'Somewhat': 1, 'Significant': 2})\n",
        "print(df[['Year', 'Primary_Area_of_Study', 'Difficulty_in_Routine', 'Time_Management_Challenge']].head())"
      ],
      "metadata": {
        "colab": {
          "base_uri": "https://localhost:8080/"
        },
        "id": "aAMmLbKAHwOH",
        "outputId": "e1e7352e-7f1f-4300-d233-81ad235828bb"
      },
      "execution_count": 9,
      "outputs": [
        {
          "output_type": "stream",
          "name": "stdout",
          "text": [
            "   Year  Primary_Area_of_Study  Difficulty_in_Routine  \\\n",
            "0     4                      0                      1   \n",
            "1     2                      3                      1   \n",
            "2     3                      0                      2   \n",
            "3     4                      4                      0   \n",
            "4     1                      0                      1   \n",
            "\n",
            "   Time_Management_Challenge  \n",
            "0                          2  \n",
            "1                          1  \n",
            "2                          1  \n",
            "3                          2  \n",
            "4                          1  \n"
          ]
        }
      ]
    },
    {
      "cell_type": "code",
      "source": [
        "def suggest_routine(student_data):\n",
        "    # Get current day's study hours, sleep, exercise, and focus level\n",
        "    study_hours = student_data['Study_Hours']\n",
        "    sleep_hours = student_data['Sleep_Hours']\n",
        "    exercise_hours = student_data['Exercise_Hours']\n",
        "    focus_level = student_data['Focus_Level']  # 1 = High, 0 = Low\n",
        "\n",
        "    # Start with a base suggestion\n",
        "    suggestion = {\n",
        "        'Study_Hours': 6,  # Default recommendation\n",
        "        'Exercise_Hours': 1,  # Default recommendation\n",
        "        'Sleep_Hours': 8,  # Default recommendation\n",
        "    }\n",
        "\n",
        "    # Adjust based on the current day's activity\n",
        "    if study_hours > 6:  # If the student studied more than 6 hours\n",
        "        suggestion['Study_Hours'] = 4  # Suggest less study time\n",
        "\n",
        "    if sleep_hours < 7:  # If the student slept less than 7 hours\n",
        "        suggestion['Sleep_Hours'] = 9  # Suggest more sleep time\n",
        "\n",
        "    if exercise_hours < 1:  # If the student exercised less than 1 hour\n",
        "        suggestion['Exercise_Hours'] = 2  # Suggest more exercise time\n",
        "\n",
        "    if focus_level == 0:  # If focus level was low today\n",
        "        suggestion['Study_Hours'] += 1  # Suggest more focused study time next day\n",
        "\n",
        "    return suggestion\n"
      ],
      "metadata": {
        "id": "y3mfhhT_JjM3"
      },
      "execution_count": 10,
      "outputs": []
    },
    {
      "cell_type": "code",
      "source": [
        "import ipywidgets as widgets\n",
        "from IPython.display import display\n",
        "\n",
        "def suggest_routine(study_hours, sleep_hours, exercise_hours, focus_level):\n",
        "    # Placeholder logic for suggestion\n",
        "    suggestion = {\n",
        "        'Study Hours': 6,  # Default recommendation\n",
        "        'Exercise Hours': 1,  # Default recommendation\n",
        "        'Sleep Hours': 8,  # Default recommendation\n",
        "    }\n",
        "\n",
        "    # Adjusting based on the current day's activity\n",
        "    if study_hours > 6:  # If the student studied more than 6 hours\n",
        "        suggestion['Study Hours'] = 4  # Suggest less study time\n",
        "    elif study_hours < 5:  # If the student studied less than 5 hours\n",
        "        suggestion['Study Hours'] = 7  # Suggest more study time\n",
        "\n",
        "    if sleep_hours < 7:  # If the student slept less than 7 hours\n",
        "        suggestion['Sleep Hours'] = 9  # Suggest more sleep time\n",
        "    elif sleep_hours > 9:  # If the student slept more than 9 hours\n",
        "        suggestion['Sleep Hours'] = 8  # Suggest less sleep time\n",
        "\n",
        "    if exercise_hours < 1:  # If the student exercised less than 1 hour\n",
        "        suggestion['Exercise Hours'] = 2  # Suggest more exercise time\n",
        "    elif exercise_hours > 2:  # If the student exercised more than 2 hours\n",
        "        suggestion['Exercise Hours'] = 1  # Suggest less exercise time\n",
        "\n",
        "    # Adjust study time based on focus level\n",
        "    if focus_level == 0:  # If focus level was low today\n",
        "        suggestion['Study Hours'] += 1  # Suggest more focused study time next day\n",
        "\n",
        "    return suggestion\n",
        "\n",
        "def show_routine(study_hours, sleep_hours, exercise_hours, focus_level):\n",
        "    suggested_routine = suggest_routine(study_hours, sleep_hours, exercise_hours, focus_level)\n",
        "    # Output the suggested routine\n",
        "    print(f\"Suggested Routine:\\nStudy Hours: {suggested_routine['Study Hours']}\\n\"\n",
        "          f\"Exercise Hours: {suggested_routine['Exercise Hours']}\\n\"\n",
        "          f\"Sleep Hours: {suggested_routine['Sleep Hours']}\")\n",
        "\n",
        "# Creating widgets\n",
        "study_hour_input = widgets.IntText(description=\"Study Hours\", value=6)\n",
        "sleep_hour_input = widgets.IntText(description=\"Sleep Hours\", value=8)\n",
        "exercise_hour_input = widgets.IntText(description=\"Exercise Hours\", value=1)\n",
        "focus_level_input = widgets.Dropdown(description=\"Focus Level\", options=[0, 1], value=1)\n",
        "\n",
        "# Button to trigger suggestion\n",
        "button = widgets.Button(description=\"Get Suggested Routine\")\n",
        "button.on_click(lambda x: show_routine(study_hour_input.value, sleep_hour_input.value,\n",
        "                                       exercise_hour_input.value, focus_level_input.value))\n",
        "\n",
        "# Display the widgets\n",
        "display(study_hour_input, sleep_hour_input, exercise_hour_input, focus_level_input, button)\n"
      ],
      "metadata": {
        "colab": {
          "base_uri": "https://localhost:8080/",
          "height": 295,
          "referenced_widgets": [
            "26b821f731144a3bb44bd32b40cf88e0",
            "84ae923413324033bc2c057e9eab4e84",
            "bf7a6afc5abc4eeea79d500d810e195c",
            "2e6a43ddb2e5438aaa68fcc3413d4104",
            "7adfb3f2cac2462888790427a999c7db",
            "22113c9b0bd641b89b4a3a253a6aa5ef",
            "6aeb4037ca6341339b47e3b25e62549f",
            "bb4025f46fcd4e9bb04a93309ca75f83",
            "439166808c1a4f6f80818c59bc7e6938",
            "7a84b67ebf474a72b2cc1000bd2359bb",
            "6a24c0cb04d1457abdbfbbd96ae3bebf",
            "c8b08c1884b042b094a4f1ff753da2fb",
            "3c08a68d01b046fe8d2d3734ee29b7fe",
            "72b9dfe768514d448fc6d2f63ea5c344",
            "f5f9f2de312744128ba44b0abd74482d"
          ]
        },
        "id": "ZtPNDSYGLI1i",
        "outputId": "fcbad419-014f-456b-afc7-805e0c4fa1c0"
      },
      "execution_count": 17,
      "outputs": [
        {
          "output_type": "stream",
          "name": "stderr",
          "text": [
            "/usr/local/lib/python3.10/dist-packages/ipykernel/ipkernel.py:283: DeprecationWarning: `should_run_async` will not call `transform_cell` automatically in the future. Please pass the result to `transformed_cell` argument and any exception that happen during thetransform in `preprocessing_exc_tuple` in IPython 7.17 and above.\n",
            "  and should_run_async(code)\n"
          ]
        },
        {
          "output_type": "display_data",
          "data": {
            "text/plain": [
              "IntText(value=6, description='Study Hours')"
            ],
            "application/vnd.jupyter.widget-view+json": {
              "version_major": 2,
              "version_minor": 0,
              "model_id": "26b821f731144a3bb44bd32b40cf88e0"
            }
          },
          "metadata": {}
        },
        {
          "output_type": "display_data",
          "data": {
            "text/plain": [
              "IntText(value=8, description='Sleep Hours')"
            ],
            "application/vnd.jupyter.widget-view+json": {
              "version_major": 2,
              "version_minor": 0,
              "model_id": "2e6a43ddb2e5438aaa68fcc3413d4104"
            }
          },
          "metadata": {}
        },
        {
          "output_type": "display_data",
          "data": {
            "text/plain": [
              "IntText(value=1, description='Exercise Hours')"
            ],
            "application/vnd.jupyter.widget-view+json": {
              "version_major": 2,
              "version_minor": 0,
              "model_id": "6aeb4037ca6341339b47e3b25e62549f"
            }
          },
          "metadata": {}
        },
        {
          "output_type": "display_data",
          "data": {
            "text/plain": [
              "Dropdown(description='Focus Level', index=1, options=(0, 1), value=1)"
            ],
            "application/vnd.jupyter.widget-view+json": {
              "version_major": 2,
              "version_minor": 0,
              "model_id": "7a84b67ebf474a72b2cc1000bd2359bb"
            }
          },
          "metadata": {}
        },
        {
          "output_type": "display_data",
          "data": {
            "text/plain": [
              "Button(description='Get Suggested Routine', style=ButtonStyle())"
            ],
            "application/vnd.jupyter.widget-view+json": {
              "version_major": 2,
              "version_minor": 0,
              "model_id": "3c08a68d01b046fe8d2d3734ee29b7fe"
            }
          },
          "metadata": {}
        },
        {
          "output_type": "stream",
          "name": "stdout",
          "text": [
            "Suggested Routine:\n",
            "Study Hours: 7\n",
            "Exercise Hours: 1\n",
            "Sleep Hours: 8\n"
          ]
        }
      ]
    },
    {
      "cell_type": "code",
      "source": [
        "import pandas as pd\n",
        "from mlxtend.frequent_patterns import apriori, association_rules\n",
        "\n",
        "# Simulating some example data for demonstration\n",
        "data = {\n",
        "    'Study_Hours': [6, 7, 8, 5, 4, 3, 6, 7, 8, 6],\n",
        "    'Exercise_Hours': [1, 2, 0, 1, 2, 0, 1, 2, 1, 2],\n",
        "    'Sleep_Hours': [8, 7, 6, 8, 9, 8, 7, 6, 6, 7]\n",
        "}\n",
        "df = pd.DataFrame(data)\n",
        "\n",
        "# Binarize the continuous variables\n",
        "df['Study_Hours'] = df['Study_Hours'].apply(lambda x: 1 if x >= 6 else 0)  # 1 for High Study Hours, 0 for Low\n",
        "df['Exercise_Hours'] = df['Exercise_Hours'].apply(lambda x: 1 if x >= 1 else 0)  # 1 for Exercise, 0 for None\n",
        "df['Sleep_Hours'] = df['Sleep_Hours'].apply(lambda x: 1 if x >= 7 else 0)  # 1 for Good Sleep, 0 for Low Sleep\n",
        "\n",
        "# Generate frequent itemsets\n",
        "frequent_itemsets = apriori(df, min_support=0.2, use_colnames=True)\n",
        "\n",
        "# Generate association rules\n",
        "rules = association_rules(frequent_itemsets, metric=\"lift\", min_threshold=1)\n",
        "\n",
        "# Display the rules\n",
        "print(rules)\n"
      ],
      "metadata": {
        "colab": {
          "base_uri": "https://localhost:8080/"
        },
        "id": "JtfUR3CZMM9X",
        "outputId": "02df6d8b-7ed7-4d6b-90e1-8ba384b47201"
      },
      "execution_count": 14,
      "outputs": [
        {
          "output_type": "stream",
          "name": "stdout",
          "text": [
            "                  antecedents                 consequents  antecedent support  \\\n",
            "0            (Exercise_Hours)               (Study_Hours)                 0.8   \n",
            "1               (Study_Hours)            (Exercise_Hours)                 0.7   \n",
            "2               (Sleep_Hours)            (Exercise_Hours)                 0.7   \n",
            "3            (Exercise_Hours)               (Sleep_Hours)                 0.8   \n",
            "4  (Sleep_Hours, Study_Hours)            (Exercise_Hours)                 0.4   \n",
            "5            (Exercise_Hours)  (Sleep_Hours, Study_Hours)                 0.8   \n",
            "\n",
            "   consequent support  support  confidence      lift  leverage  conviction  \\\n",
            "0                 0.7      0.6    0.750000  1.071429      0.04         1.2   \n",
            "1                 0.8      0.6    0.857143  1.071429      0.04         1.4   \n",
            "2                 0.8      0.6    0.857143  1.071429      0.04         1.4   \n",
            "3                 0.7      0.6    0.750000  1.071429      0.04         1.2   \n",
            "4                 0.8      0.4    1.000000  1.250000      0.08         inf   \n",
            "5                 0.4      0.4    0.500000  1.250000      0.08         1.2   \n",
            "\n",
            "   zhangs_metric  \n",
            "0       0.333333  \n",
            "1       0.222222  \n",
            "2       0.222222  \n",
            "3       0.333333  \n",
            "4       0.333333  \n",
            "5       1.000000  \n"
          ]
        },
        {
          "output_type": "stream",
          "name": "stderr",
          "text": [
            "/usr/local/lib/python3.10/dist-packages/mlxtend/frequent_patterns/fpcommon.py:109: DeprecationWarning: DataFrames with non-bool types result in worse computationalperformance and their support might be discontinued in the future.Please use a DataFrame with bool type\n",
            "  warnings.warn(\n"
          ]
        }
      ]
    }
  ]
}