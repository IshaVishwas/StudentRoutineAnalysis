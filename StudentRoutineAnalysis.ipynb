{
  "nbformat": 4,
  "nbformat_minor": 0,
  "metadata": {
    "colab": {
      "provenance": [],
      "authorship_tag": "ABX9TyPhFH4ZH5Ti6l196SqtoaW4",
      "include_colab_link": true
    },
    "kernelspec": {
      "name": "python3",
      "display_name": "Python 3"
    },
    "language_info": {
      "name": "python"
    },
    "widgets": {
      "application/vnd.jupyter.widget-state+json": {
        "a899a45a521a44958f2c810cc3ec4c13": {
          "model_module": "@jupyter-widgets/controls",
          "model_name": "IntTextModel",
          "model_module_version": "1.5.0",
          "state": {
            "_dom_classes": [],
            "_model_module": "@jupyter-widgets/controls",
            "_model_module_version": "1.5.0",
            "_model_name": "IntTextModel",
            "_view_count": null,
            "_view_module": "@jupyter-widgets/controls",
            "_view_module_version": "1.5.0",
            "_view_name": "IntTextView",
            "continuous_update": false,
            "description": "Study Hours",
            "description_tooltip": null,
            "disabled": false,
            "layout": "IPY_MODEL_9567cb2ad66541ce80b234edd2a78fe7",
            "step": 1,
            "style": "IPY_MODEL_e9a20abf4dda4ef2950bd6947c754f49",
            "value": 6
          }
        },
        "9567cb2ad66541ce80b234edd2a78fe7": {
          "model_module": "@jupyter-widgets/base",
          "model_name": "LayoutModel",
          "model_module_version": "1.2.0",
          "state": {
            "_model_module": "@jupyter-widgets/base",
            "_model_module_version": "1.2.0",
            "_model_name": "LayoutModel",
            "_view_count": null,
            "_view_module": "@jupyter-widgets/base",
            "_view_module_version": "1.2.0",
            "_view_name": "LayoutView",
            "align_content": null,
            "align_items": null,
            "align_self": null,
            "border": null,
            "bottom": null,
            "display": null,
            "flex": null,
            "flex_flow": null,
            "grid_area": null,
            "grid_auto_columns": null,
            "grid_auto_flow": null,
            "grid_auto_rows": null,
            "grid_column": null,
            "grid_gap": null,
            "grid_row": null,
            "grid_template_areas": null,
            "grid_template_columns": null,
            "grid_template_rows": null,
            "height": null,
            "justify_content": null,
            "justify_items": null,
            "left": null,
            "margin": null,
            "max_height": null,
            "max_width": null,
            "min_height": null,
            "min_width": null,
            "object_fit": null,
            "object_position": null,
            "order": null,
            "overflow": null,
            "overflow_x": null,
            "overflow_y": null,
            "padding": null,
            "right": null,
            "top": null,
            "visibility": null,
            "width": null
          }
        },
        "e9a20abf4dda4ef2950bd6947c754f49": {
          "model_module": "@jupyter-widgets/controls",
          "model_name": "DescriptionStyleModel",
          "model_module_version": "1.5.0",
          "state": {
            "_model_module": "@jupyter-widgets/controls",
            "_model_module_version": "1.5.0",
            "_model_name": "DescriptionStyleModel",
            "_view_count": null,
            "_view_module": "@jupyter-widgets/base",
            "_view_module_version": "1.2.0",
            "_view_name": "StyleView",
            "description_width": ""
          }
        },
        "91bb0177205346fa84bd48ddc40ccb08": {
          "model_module": "@jupyter-widgets/controls",
          "model_name": "IntTextModel",
          "model_module_version": "1.5.0",
          "state": {
            "_dom_classes": [],
            "_model_module": "@jupyter-widgets/controls",
            "_model_module_version": "1.5.0",
            "_model_name": "IntTextModel",
            "_view_count": null,
            "_view_module": "@jupyter-widgets/controls",
            "_view_module_version": "1.5.0",
            "_view_name": "IntTextView",
            "continuous_update": false,
            "description": "Sleep Hours",
            "description_tooltip": null,
            "disabled": false,
            "layout": "IPY_MODEL_63709104f4f8486f8b042c3c72222441",
            "step": 1,
            "style": "IPY_MODEL_8b3aafddadc6433a984eedcc684dc29a",
            "value": 8
          }
        },
        "63709104f4f8486f8b042c3c72222441": {
          "model_module": "@jupyter-widgets/base",
          "model_name": "LayoutModel",
          "model_module_version": "1.2.0",
          "state": {
            "_model_module": "@jupyter-widgets/base",
            "_model_module_version": "1.2.0",
            "_model_name": "LayoutModel",
            "_view_count": null,
            "_view_module": "@jupyter-widgets/base",
            "_view_module_version": "1.2.0",
            "_view_name": "LayoutView",
            "align_content": null,
            "align_items": null,
            "align_self": null,
            "border": null,
            "bottom": null,
            "display": null,
            "flex": null,
            "flex_flow": null,
            "grid_area": null,
            "grid_auto_columns": null,
            "grid_auto_flow": null,
            "grid_auto_rows": null,
            "grid_column": null,
            "grid_gap": null,
            "grid_row": null,
            "grid_template_areas": null,
            "grid_template_columns": null,
            "grid_template_rows": null,
            "height": null,
            "justify_content": null,
            "justify_items": null,
            "left": null,
            "margin": null,
            "max_height": null,
            "max_width": null,
            "min_height": null,
            "min_width": null,
            "object_fit": null,
            "object_position": null,
            "order": null,
            "overflow": null,
            "overflow_x": null,
            "overflow_y": null,
            "padding": null,
            "right": null,
            "top": null,
            "visibility": null,
            "width": null
          }
        },
        "8b3aafddadc6433a984eedcc684dc29a": {
          "model_module": "@jupyter-widgets/controls",
          "model_name": "DescriptionStyleModel",
          "model_module_version": "1.5.0",
          "state": {
            "_model_module": "@jupyter-widgets/controls",
            "_model_module_version": "1.5.0",
            "_model_name": "DescriptionStyleModel",
            "_view_count": null,
            "_view_module": "@jupyter-widgets/base",
            "_view_module_version": "1.2.0",
            "_view_name": "StyleView",
            "description_width": ""
          }
        },
        "c63d99274e564a23b45e72dc0d6af174": {
          "model_module": "@jupyter-widgets/controls",
          "model_name": "IntTextModel",
          "model_module_version": "1.5.0",
          "state": {
            "_dom_classes": [],
            "_model_module": "@jupyter-widgets/controls",
            "_model_module_version": "1.5.0",
            "_model_name": "IntTextModel",
            "_view_count": null,
            "_view_module": "@jupyter-widgets/controls",
            "_view_module_version": "1.5.0",
            "_view_name": "IntTextView",
            "continuous_update": false,
            "description": "Exercise Hours",
            "description_tooltip": null,
            "disabled": false,
            "layout": "IPY_MODEL_427e416640c143928593e3e18144d471",
            "step": 1,
            "style": "IPY_MODEL_d44fac7e563d48fc8985c05fdc1aca75",
            "value": 1
          }
        },
        "427e416640c143928593e3e18144d471": {
          "model_module": "@jupyter-widgets/base",
          "model_name": "LayoutModel",
          "model_module_version": "1.2.0",
          "state": {
            "_model_module": "@jupyter-widgets/base",
            "_model_module_version": "1.2.0",
            "_model_name": "LayoutModel",
            "_view_count": null,
            "_view_module": "@jupyter-widgets/base",
            "_view_module_version": "1.2.0",
            "_view_name": "LayoutView",
            "align_content": null,
            "align_items": null,
            "align_self": null,
            "border": null,
            "bottom": null,
            "display": null,
            "flex": null,
            "flex_flow": null,
            "grid_area": null,
            "grid_auto_columns": null,
            "grid_auto_flow": null,
            "grid_auto_rows": null,
            "grid_column": null,
            "grid_gap": null,
            "grid_row": null,
            "grid_template_areas": null,
            "grid_template_columns": null,
            "grid_template_rows": null,
            "height": null,
            "justify_content": null,
            "justify_items": null,
            "left": null,
            "margin": null,
            "max_height": null,
            "max_width": null,
            "min_height": null,
            "min_width": null,
            "object_fit": null,
            "object_position": null,
            "order": null,
            "overflow": null,
            "overflow_x": null,
            "overflow_y": null,
            "padding": null,
            "right": null,
            "top": null,
            "visibility": null,
            "width": null
          }
        },
        "d44fac7e563d48fc8985c05fdc1aca75": {
          "model_module": "@jupyter-widgets/controls",
          "model_name": "DescriptionStyleModel",
          "model_module_version": "1.5.0",
          "state": {
            "_model_module": "@jupyter-widgets/controls",
            "_model_module_version": "1.5.0",
            "_model_name": "DescriptionStyleModel",
            "_view_count": null,
            "_view_module": "@jupyter-widgets/base",
            "_view_module_version": "1.2.0",
            "_view_name": "StyleView",
            "description_width": ""
          }
        },
        "a799730d8a594ae38b82d9cbd5d0283d": {
          "model_module": "@jupyter-widgets/controls",
          "model_name": "DropdownModel",
          "model_module_version": "1.5.0",
          "state": {
            "_dom_classes": [],
            "_model_module": "@jupyter-widgets/controls",
            "_model_module_version": "1.5.0",
            "_model_name": "DropdownModel",
            "_options_labels": [
              "0",
              "1"
            ],
            "_view_count": null,
            "_view_module": "@jupyter-widgets/controls",
            "_view_module_version": "1.5.0",
            "_view_name": "DropdownView",
            "description": "Focus Level",
            "description_tooltip": null,
            "disabled": false,
            "index": 1,
            "layout": "IPY_MODEL_1ec45b915f4b4f01bd967a5b87dd6090",
            "style": "IPY_MODEL_6ae82180e9e74ddfb28bf4af30868edd"
          }
        },
        "1ec45b915f4b4f01bd967a5b87dd6090": {
          "model_module": "@jupyter-widgets/base",
          "model_name": "LayoutModel",
          "model_module_version": "1.2.0",
          "state": {
            "_model_module": "@jupyter-widgets/base",
            "_model_module_version": "1.2.0",
            "_model_name": "LayoutModel",
            "_view_count": null,
            "_view_module": "@jupyter-widgets/base",
            "_view_module_version": "1.2.0",
            "_view_name": "LayoutView",
            "align_content": null,
            "align_items": null,
            "align_self": null,
            "border": null,
            "bottom": null,
            "display": null,
            "flex": null,
            "flex_flow": null,
            "grid_area": null,
            "grid_auto_columns": null,
            "grid_auto_flow": null,
            "grid_auto_rows": null,
            "grid_column": null,
            "grid_gap": null,
            "grid_row": null,
            "grid_template_areas": null,
            "grid_template_columns": null,
            "grid_template_rows": null,
            "height": null,
            "justify_content": null,
            "justify_items": null,
            "left": null,
            "margin": null,
            "max_height": null,
            "max_width": null,
            "min_height": null,
            "min_width": null,
            "object_fit": null,
            "object_position": null,
            "order": null,
            "overflow": null,
            "overflow_x": null,
            "overflow_y": null,
            "padding": null,
            "right": null,
            "top": null,
            "visibility": null,
            "width": null
          }
        },
        "6ae82180e9e74ddfb28bf4af30868edd": {
          "model_module": "@jupyter-widgets/controls",
          "model_name": "DescriptionStyleModel",
          "model_module_version": "1.5.0",
          "state": {
            "_model_module": "@jupyter-widgets/controls",
            "_model_module_version": "1.5.0",
            "_model_name": "DescriptionStyleModel",
            "_view_count": null,
            "_view_module": "@jupyter-widgets/base",
            "_view_module_version": "1.2.0",
            "_view_name": "StyleView",
            "description_width": ""
          }
        },
        "d426d1b36b7c4b29a5199e92419fd03f": {
          "model_module": "@jupyter-widgets/controls",
          "model_name": "ButtonModel",
          "model_module_version": "1.5.0",
          "state": {
            "_dom_classes": [],
            "_model_module": "@jupyter-widgets/controls",
            "_model_module_version": "1.5.0",
            "_model_name": "ButtonModel",
            "_view_count": null,
            "_view_module": "@jupyter-widgets/controls",
            "_view_module_version": "1.5.0",
            "_view_name": "ButtonView",
            "button_style": "",
            "description": "Get Suggested Routine",
            "disabled": false,
            "icon": "",
            "layout": "IPY_MODEL_bad9e9a0a22a4281bd40c54fd1e1b03f",
            "style": "IPY_MODEL_3abb38acd7dd46fabe8b28e73cd109bd",
            "tooltip": ""
          }
        },
        "bad9e9a0a22a4281bd40c54fd1e1b03f": {
          "model_module": "@jupyter-widgets/base",
          "model_name": "LayoutModel",
          "model_module_version": "1.2.0",
          "state": {
            "_model_module": "@jupyter-widgets/base",
            "_model_module_version": "1.2.0",
            "_model_name": "LayoutModel",
            "_view_count": null,
            "_view_module": "@jupyter-widgets/base",
            "_view_module_version": "1.2.0",
            "_view_name": "LayoutView",
            "align_content": null,
            "align_items": null,
            "align_self": null,
            "border": null,
            "bottom": null,
            "display": null,
            "flex": null,
            "flex_flow": null,
            "grid_area": null,
            "grid_auto_columns": null,
            "grid_auto_flow": null,
            "grid_auto_rows": null,
            "grid_column": null,
            "grid_gap": null,
            "grid_row": null,
            "grid_template_areas": null,
            "grid_template_columns": null,
            "grid_template_rows": null,
            "height": null,
            "justify_content": null,
            "justify_items": null,
            "left": null,
            "margin": null,
            "max_height": null,
            "max_width": null,
            "min_height": null,
            "min_width": null,
            "object_fit": null,
            "object_position": null,
            "order": null,
            "overflow": null,
            "overflow_x": null,
            "overflow_y": null,
            "padding": null,
            "right": null,
            "top": null,
            "visibility": null,
            "width": null
          }
        },
        "3abb38acd7dd46fabe8b28e73cd109bd": {
          "model_module": "@jupyter-widgets/controls",
          "model_name": "ButtonStyleModel",
          "model_module_version": "1.5.0",
          "state": {
            "_model_module": "@jupyter-widgets/controls",
            "_model_module_version": "1.5.0",
            "_model_name": "ButtonStyleModel",
            "_view_count": null,
            "_view_module": "@jupyter-widgets/base",
            "_view_module_version": "1.2.0",
            "_view_name": "StyleView",
            "button_color": null,
            "font_weight": ""
          }
        }
      }
    }
  },
  "cells": [
    {
      "cell_type": "markdown",
      "metadata": {
        "id": "view-in-github",
        "colab_type": "text"
      },
      "source": [
        "<a href=\"https://colab.research.google.com/github/IshaVishwas/StudentRoutineAnalysis/blob/main/StudentRoutineAnalysis.ipynb\" target=\"_parent\"><img src=\"https://colab.research.google.com/assets/colab-badge.svg\" alt=\"Open In Colab\"/></a>"
      ]
    },
    {
      "cell_type": "code",
      "source": [
        "import pandas as pd\n",
        "\n",
        "# Load the CSV file\n",
        "file_path = '/content/student_survey_data.csv'  # Replace with the actual file path\n",
        "df = pd.read_csv(file_path)\n",
        "\n",
        "# Display the first few rows to verify data loading\n",
        "print(df.head())\n"
      ],
      "metadata": {
        "colab": {
          "base_uri": "https://localhost:8080/"
        },
        "id": "iIaaTUqWDgPS",
        "outputId": "5aaeb808-8274-4c6d-8e4b-4d919549cd32"
      },
      "execution_count": 2,
      "outputs": [
        {
          "output_type": "stream",
          "name": "stdout",
          "text": [
            "   Age Year Primary_Area_of_Study  Study_Hours  Exercise_Hours  Sleep_Hours  \\\n",
            "0   24  4th               Biology     4.061576        1.091928     8.478252   \n",
            "1   21  2nd           Mathematics     4.216308        1.288949     6.120532   \n",
            "2   22  3rd               Biology     5.019551        2.067321     6.208280   \n",
            "3   24  4th               Physics     5.566654        1.113424     5.828023   \n",
            "4   20  1st               Biology     5.094237        1.827731     5.413536   \n",
            "\n",
            "   Social_Hours  Class_Hours  Other_Hours Difficulty_in_Routine  \\\n",
            "0      3.212156     3.000000     2.789983              Moderate   \n",
            "1      1.855951     5.241714     2.052460              Moderate   \n",
            "2      2.128041     6.000000     1.444250                  High   \n",
            "3      1.518662     3.000000     1.000000                   Low   \n",
            "4      0.851945     3.000000     3.161353              Moderate   \n",
            "\n",
            "  Time_Management_Challenge  Total_Hours  \n",
            "0                       NaN    22.633895  \n",
            "1                  Somewhat    20.775913  \n",
            "2                  Somewhat    22.867443  \n",
            "3                       NaN    18.026764  \n",
            "4                  Somewhat    19.348802  \n"
          ]
        }
      ]
    },
    {
      "cell_type": "code",
      "source": [
        "# Check for missing values\n",
        "missing_values = df.isnull().sum()\n",
        "print(\"Missing Values:\\n\", missing_values)\n"
      ],
      "metadata": {
        "colab": {
          "base_uri": "https://localhost:8080/"
        },
        "id": "xjenms6OG1kd",
        "outputId": "28eb0db9-2b82-4529-8d6c-b78376e62407"
      },
      "execution_count": 3,
      "outputs": [
        {
          "output_type": "stream",
          "name": "stdout",
          "text": [
            "Missing Values:\n",
            " Age                           0\n",
            "Year                          0\n",
            "Primary_Area_of_Study         0\n",
            "Study_Hours                   0\n",
            "Exercise_Hours                0\n",
            "Sleep_Hours                   0\n",
            "Social_Hours                  0\n",
            "Class_Hours                   0\n",
            "Other_Hours                   0\n",
            "Difficulty_in_Routine         0\n",
            "Time_Management_Challenge    32\n",
            "Total_Hours                   0\n",
            "dtype: int64\n"
          ]
        }
      ]
    },
    {
      "cell_type": "code",
      "source": [
        "# Find the most frequent value (mode) in 'Time_Management_Challenge'\n",
        "mode_value = df['Time_Management_Challenge'].mode()[0]\n",
        "\n",
        "# Fill NaN values with the mode (most frequent value)\n",
        "df['Time_Management_Challenge'] = df['Time_Management_Challenge'].fillna(mode_value)\n",
        "\n",
        "# Verify the result\n",
        "print(df[['Time_Management_Challenge']].head())\n"
      ],
      "metadata": {
        "colab": {
          "base_uri": "https://localhost:8080/"
        },
        "id": "Io0Vf9Q7Hb-t",
        "outputId": "2b22a1e1-5093-4dc1-b615-3b7b10e4ee21"
      },
      "execution_count": 4,
      "outputs": [
        {
          "output_type": "stream",
          "name": "stdout",
          "text": [
            "  Time_Management_Challenge\n",
            "0               Significant\n",
            "1                  Somewhat\n",
            "2                  Somewhat\n",
            "3               Significant\n",
            "4                  Somewhat\n"
          ]
        }
      ]
    },
    {
      "cell_type": "code",
      "source": [
        "# Check for missing values\n",
        "missing_values = df.isnull().sum()\n",
        "print(\"Missing Values:\\n\", missing_values)"
      ],
      "metadata": {
        "colab": {
          "base_uri": "https://localhost:8080/"
        },
        "id": "BmEYMiFsHfwT",
        "outputId": "dba00f31-a5f6-4bc9-ebc6-6a77d25490b8"
      },
      "execution_count": 5,
      "outputs": [
        {
          "output_type": "stream",
          "name": "stdout",
          "text": [
            "Missing Values:\n",
            " Age                          0\n",
            "Year                         0\n",
            "Primary_Area_of_Study        0\n",
            "Study_Hours                  0\n",
            "Exercise_Hours               0\n",
            "Sleep_Hours                  0\n",
            "Social_Hours                 0\n",
            "Class_Hours                  0\n",
            "Other_Hours                  0\n",
            "Difficulty_in_Routine        0\n",
            "Time_Management_Challenge    0\n",
            "Total_Hours                  0\n",
            "dtype: int64\n"
          ]
        }
      ]
    },
    {
      "cell_type": "code",
      "source": [
        "# Display summary statistics\n",
        "summary_statistics = df.describe()\n",
        "print(\"\\nSummary Statistics:\\n\", summary_statistics)"
      ],
      "metadata": {
        "colab": {
          "base_uri": "https://localhost:8080/"
        },
        "id": "FWQ26GouHlHh",
        "outputId": "62014484-4570-48b6-fcae-9ed4935f4e2a"
      },
      "execution_count": 6,
      "outputs": [
        {
          "output_type": "stream",
          "name": "stdout",
          "text": [
            "\n",
            "Summary Statistics:\n",
            "               Age  Study_Hours  Exercise_Hours  Sleep_Hours  Social_Hours  \\\n",
            "count  100.000000   100.000000      100.000000   100.000000    100.000000   \n",
            "mean    21.210000     4.751848        1.099806     6.969174      2.035539   \n",
            "std      1.913773     1.561339        0.468915     0.983239      1.016845   \n",
            "min     18.000000     1.000000        0.500000     5.000000      0.000000   \n",
            "25%     19.750000     3.562273        0.704770     6.289283      1.284975   \n",
            "50%     21.000000     4.808495        1.071015     6.902429      2.053701   \n",
            "75%     23.000000     5.714280        1.443449     7.778143      2.656831   \n",
            "max     24.000000     8.410018        2.593517     8.727748      4.172842   \n",
            "\n",
            "       Class_Hours  Other_Hours  Total_Hours  \n",
            "count   100.000000   100.000000   100.000000  \n",
            "mean      4.154711     3.035987    22.047064  \n",
            "std       0.921403     1.035869     2.323225  \n",
            "min       3.000000     1.000000    17.621493  \n",
            "25%       3.357410     2.316015    20.606841  \n",
            "50%       4.071096     3.094071    22.138658  \n",
            "75%       4.760196     3.952985    23.472910  \n",
            "max       6.000000     5.000000    28.905053  \n"
          ]
        }
      ]
    },
    {
      "cell_type": "code",
      "source": [
        "average_study_hours = df['Study_Hours'].mean()\n",
        "df['Focus_Level'] = df['Study_Hours'].apply(lambda x: 1 if x > average_study_hours else 0)\n",
        "print(df[['Study_Hours', 'Focus_Level']].head())"
      ],
      "metadata": {
        "colab": {
          "base_uri": "https://localhost:8080/"
        },
        "id": "tanakQAhHqBx",
        "outputId": "220d922d-b4b6-4d35-db61-1f0d8d0bea8f"
      },
      "execution_count": 7,
      "outputs": [
        {
          "output_type": "stream",
          "name": "stdout",
          "text": [
            "   Study_Hours  Focus_Level\n",
            "0     4.061576            0\n",
            "1     4.216308            0\n",
            "2     5.019551            1\n",
            "3     5.566654            1\n",
            "4     5.094237            1\n"
          ]
        }
      ]
    },
    {
      "cell_type": "code",
      "source": [
        "df['Activity_Balance'] = (df['Study_Hours'] + df['Class_Hours']) / (df['Exercise_Hours'] + df['Social_Hours'] + 0.01)\n",
        "print(df[['Study_Hours', 'Class_Hours', 'Exercise_Hours', 'Social_Hours', 'Activity_Balance']].head())"
      ],
      "metadata": {
        "colab": {
          "base_uri": "https://localhost:8080/"
        },
        "id": "CkmAefn9Hv7p",
        "outputId": "6cbca941-5930-4b51-977e-c7989167d04d"
      },
      "execution_count": 8,
      "outputs": [
        {
          "output_type": "stream",
          "name": "stdout",
          "text": [
            "   Study_Hours  Class_Hours  Exercise_Hours  Social_Hours  Activity_Balance\n",
            "0     4.061576     3.000000        1.091928      3.212156          1.636865\n",
            "1     4.216308     5.241714        1.288949      1.855951          2.997884\n",
            "2     5.019551     6.000000        2.067321      2.128041          2.620357\n",
            "3     5.566654     3.000000        1.113424      1.518662          3.242383\n",
            "4     5.094237     3.000000        1.827731      0.851945          3.009373\n"
          ]
        }
      ]
    },
    {
      "cell_type": "code",
      "source": [
        "df['Year'] = df['Year'].map({'1st': 1, '2nd': 2, '3rd': 3, '4th': 4})\n",
        "df['Primary_Area_of_Study'] = df['Primary_Area_of_Study'].astype('category').cat.codes\n",
        "df['Difficulty_in_Routine'] = df['Difficulty_in_Routine'].map({'Low': 0, 'Moderate': 1, 'High': 2})\n",
        "df['Time_Management_Challenge'] = df['Time_Management_Challenge'].map({'None': 0, 'Somewhat': 1, 'Significant': 2})\n",
        "print(df[['Year', 'Primary_Area_of_Study', 'Difficulty_in_Routine', 'Time_Management_Challenge']].head())"
      ],
      "metadata": {
        "colab": {
          "base_uri": "https://localhost:8080/"
        },
        "id": "aAMmLbKAHwOH",
        "outputId": "8d315fae-6bb6-473a-e731-8cd9aa0a3de6"
      },
      "execution_count": 9,
      "outputs": [
        {
          "output_type": "stream",
          "name": "stdout",
          "text": [
            "   Year  Primary_Area_of_Study  Difficulty_in_Routine  \\\n",
            "0     4                      0                      1   \n",
            "1     2                      3                      1   \n",
            "2     3                      0                      2   \n",
            "3     4                      4                      0   \n",
            "4     1                      0                      1   \n",
            "\n",
            "   Time_Management_Challenge  \n",
            "0                          2  \n",
            "1                          1  \n",
            "2                          1  \n",
            "3                          2  \n",
            "4                          1  \n"
          ]
        }
      ]
    },
    {
      "cell_type": "code",
      "source": [
        "def suggest_routine(student_data):\n",
        "    # Get current day's study hours, sleep, exercise, and focus level\n",
        "    study_hours = student_data['Study_Hours']\n",
        "    sleep_hours = student_data['Sleep_Hours']\n",
        "    exercise_hours = student_data['Exercise_Hours']\n",
        "    focus_level = student_data['Focus_Level']  # 1 = High, 0 = Low\n",
        "\n",
        "    # Start with a base suggestion\n",
        "    suggestion = {\n",
        "        'Study_Hours': 6,  # Default recommendation\n",
        "        'Exercise_Hours': 1,  # Default recommendation\n",
        "        'Sleep_Hours': 8,  # Default recommendation\n",
        "    }\n",
        "\n",
        "    # Adjust based on the current day's activity\n",
        "    if study_hours > 6:  # If the student studied more than 6 hours\n",
        "        suggestion['Study_Hours'] = 4  # Suggest less study time\n",
        "\n",
        "    if sleep_hours < 7:  # If the student slept less than 7 hours\n",
        "        suggestion['Sleep_Hours'] = 9  # Suggest more sleep time\n",
        "\n",
        "    if exercise_hours < 1:  # If the student exercised less than 1 hour\n",
        "        suggestion['Exercise_Hours'] = 2  # Suggest more exercise time\n",
        "\n",
        "    if focus_level == 0:  # If focus level was low today\n",
        "        suggestion['Study_Hours'] += 1  # Suggest more focused study time next day\n",
        "\n",
        "    return suggestion\n"
      ],
      "metadata": {
        "id": "y3mfhhT_JjM3"
      },
      "execution_count": 10,
      "outputs": []
    },
    {
      "cell_type": "code",
      "source": [
        "import ipywidgets as widgets\n",
        "from IPython.display import display\n",
        "\n",
        "def suggest_routine(study_hours, sleep_hours, exercise_hours, focus_level):\n",
        "    # Placeholder logic for suggestion\n",
        "    suggestion = {\n",
        "        'Study Hours': 6,  # Default recommendation\n",
        "        'Exercise Hours': 1,  # Default recommendation\n",
        "        'Sleep Hours': 8,  # Default recommendation\n",
        "    }\n",
        "\n",
        "    # Adjusting based on the current day's activity\n",
        "    if study_hours > 6:  # If the student studied more than 6 hours\n",
        "        suggestion['Study Hours'] = 4  # Suggest less study time\n",
        "    elif study_hours < 5:  # If the student studied less than 5 hours\n",
        "        suggestion['Study Hours'] = 7  # Suggest more study time\n",
        "\n",
        "    if sleep_hours < 7:  # If the student slept less than 7 hours\n",
        "        suggestion['Sleep Hours'] = 9  # Suggest more sleep time\n",
        "    elif sleep_hours > 9:  # If the student slept more than 9 hours\n",
        "        suggestion['Sleep Hours'] = 8  # Suggest less sleep time\n",
        "\n",
        "    if exercise_hours < 1:  # If the student exercised less than 1 hour\n",
        "        suggestion['Exercise Hours'] = 2  # Suggest more exercise time\n",
        "    elif exercise_hours > 2:  # If the student exercised more than 2 hours\n",
        "        suggestion['Exercise Hours'] = 1  # Suggest less exercise time\n",
        "\n",
        "    # Adjust study time based on focus level\n",
        "    if focus_level == 0:  # If focus level was low today\n",
        "        suggestion['Study Hours'] += 1  # Suggest more focused study time next day\n",
        "\n",
        "    return suggestion\n",
        "\n",
        "def show_routine(study_hours, sleep_hours, exercise_hours, focus_level):\n",
        "    suggested_routine = suggest_routine(study_hours, sleep_hours, exercise_hours, focus_level)\n",
        "    # Output the suggested routine\n",
        "    print(f\"Suggested Routine:\\nStudy Hours: {suggested_routine['Study Hours']}\\n\"\n",
        "          f\"Exercise Hours: {suggested_routine['Exercise Hours']}\\n\"\n",
        "          f\"Sleep Hours: {suggested_routine['Sleep Hours']}\")\n",
        "\n",
        "# Creating widgets\n",
        "study_hour_input = widgets.IntText(description=\"Study Hours\", value=6)\n",
        "sleep_hour_input = widgets.IntText(description=\"Sleep Hours\", value=8)\n",
        "exercise_hour_input = widgets.IntText(description=\"Exercise Hours\", value=1)\n",
        "focus_level_input = widgets.Dropdown(description=\"Focus Level\", options=[0, 1], value=1)\n",
        "\n",
        "# Button to trigger suggestion\n",
        "button = widgets.Button(description=\"Get Suggested Routine\")\n",
        "button.on_click(lambda x: show_routine(study_hour_input.value, sleep_hour_input.value,\n",
        "                                       exercise_hour_input.value, focus_level_input.value))\n",
        "\n",
        "# Display the widgets\n",
        "display(study_hour_input, sleep_hour_input, exercise_hour_input, focus_level_input, button)\n"
      ],
      "metadata": {
        "colab": {
          "base_uri": "https://localhost:8080/",
          "height": 173,
          "referenced_widgets": [
            "a899a45a521a44958f2c810cc3ec4c13",
            "9567cb2ad66541ce80b234edd2a78fe7",
            "e9a20abf4dda4ef2950bd6947c754f49",
            "91bb0177205346fa84bd48ddc40ccb08",
            "63709104f4f8486f8b042c3c72222441",
            "8b3aafddadc6433a984eedcc684dc29a",
            "c63d99274e564a23b45e72dc0d6af174",
            "427e416640c143928593e3e18144d471",
            "d44fac7e563d48fc8985c05fdc1aca75",
            "a799730d8a594ae38b82d9cbd5d0283d",
            "1ec45b915f4b4f01bd967a5b87dd6090",
            "6ae82180e9e74ddfb28bf4af30868edd",
            "d426d1b36b7c4b29a5199e92419fd03f",
            "bad9e9a0a22a4281bd40c54fd1e1b03f",
            "3abb38acd7dd46fabe8b28e73cd109bd"
          ]
        },
        "id": "ZtPNDSYGLI1i",
        "outputId": "99bdcc09-42b2-4b4c-affd-c081c86a2b9b"
      },
      "execution_count": 11,
      "outputs": [
        {
          "output_type": "display_data",
          "data": {
            "text/plain": [
              "IntText(value=6, description='Study Hours')"
            ],
            "application/vnd.jupyter.widget-view+json": {
              "version_major": 2,
              "version_minor": 0,
              "model_id": "a899a45a521a44958f2c810cc3ec4c13"
            }
          },
          "metadata": {}
        },
        {
          "output_type": "display_data",
          "data": {
            "text/plain": [
              "IntText(value=8, description='Sleep Hours')"
            ],
            "application/vnd.jupyter.widget-view+json": {
              "version_major": 2,
              "version_minor": 0,
              "model_id": "91bb0177205346fa84bd48ddc40ccb08"
            }
          },
          "metadata": {}
        },
        {
          "output_type": "display_data",
          "data": {
            "text/plain": [
              "IntText(value=1, description='Exercise Hours')"
            ],
            "application/vnd.jupyter.widget-view+json": {
              "version_major": 2,
              "version_minor": 0,
              "model_id": "c63d99274e564a23b45e72dc0d6af174"
            }
          },
          "metadata": {}
        },
        {
          "output_type": "display_data",
          "data": {
            "text/plain": [
              "Dropdown(description='Focus Level', index=1, options=(0, 1), value=1)"
            ],
            "application/vnd.jupyter.widget-view+json": {
              "version_major": 2,
              "version_minor": 0,
              "model_id": "a799730d8a594ae38b82d9cbd5d0283d"
            }
          },
          "metadata": {}
        },
        {
          "output_type": "display_data",
          "data": {
            "text/plain": [
              "Button(description='Get Suggested Routine', style=ButtonStyle())"
            ],
            "application/vnd.jupyter.widget-view+json": {
              "version_major": 2,
              "version_minor": 0,
              "model_id": "d426d1b36b7c4b29a5199e92419fd03f"
            }
          },
          "metadata": {}
        }
      ]
    },
    {
      "cell_type": "code",
      "source": [
        "import pandas as pd\n",
        "from mlxtend.frequent_patterns import apriori, association_rules\n",
        "\n",
        "# Simulating some example data for demonstration\n",
        "data = {\n",
        "    'Study_Hours': [6, 7, 8, 5, 4, 3, 6, 7, 8, 6],\n",
        "    'Exercise_Hours': [1, 2, 0, 1, 2, 0, 1, 2, 1, 2],\n",
        "    'Sleep_Hours': [8, 7, 6, 8, 9, 8, 7, 6, 6, 7]\n",
        "}\n",
        "df = pd.DataFrame(data)\n",
        "\n",
        "# Binarize the continuous variables\n",
        "df['Study_Hours'] = df['Study_Hours'].apply(lambda x: 1 if x >= 6 else 0)  # 1 for High Study Hours, 0 for Low\n",
        "df['Exercise_Hours'] = df['Exercise_Hours'].apply(lambda x: 1 if x >= 1 else 0)  # 1 for Exercise, 0 for None\n",
        "df['Sleep_Hours'] = df['Sleep_Hours'].apply(lambda x: 1 if x >= 7 else 0)  # 1 for Good Sleep, 0 for Low Sleep\n",
        "\n",
        "# Generate frequent itemsets\n",
        "frequent_itemsets = apriori(df, min_support=0.2, use_colnames=True)\n",
        "\n",
        "# Generate association rules\n",
        "rules = association_rules(frequent_itemsets, metric=\"lift\", min_threshold=1)\n",
        "\n",
        "# Display the rules\n",
        "print(rules)\n"
      ],
      "metadata": {
        "colab": {
          "base_uri": "https://localhost:8080/"
        },
        "id": "JtfUR3CZMM9X",
        "outputId": "c0e06fe4-0c7d-4620-8b24-671be0515a69"
      },
      "execution_count": 12,
      "outputs": [
        {
          "output_type": "stream",
          "name": "stdout",
          "text": [
            "                  antecedents                 consequents  antecedent support  \\\n",
            "0            (Exercise_Hours)               (Study_Hours)                 0.8   \n",
            "1               (Study_Hours)            (Exercise_Hours)                 0.7   \n",
            "2            (Exercise_Hours)               (Sleep_Hours)                 0.8   \n",
            "3               (Sleep_Hours)            (Exercise_Hours)                 0.7   \n",
            "4  (Study_Hours, Sleep_Hours)            (Exercise_Hours)                 0.4   \n",
            "5            (Exercise_Hours)  (Study_Hours, Sleep_Hours)                 0.8   \n",
            "\n",
            "   consequent support  support  confidence      lift  leverage  conviction  \\\n",
            "0                 0.7      0.6    0.750000  1.071429      0.04         1.2   \n",
            "1                 0.8      0.6    0.857143  1.071429      0.04         1.4   \n",
            "2                 0.7      0.6    0.750000  1.071429      0.04         1.2   \n",
            "3                 0.8      0.6    0.857143  1.071429      0.04         1.4   \n",
            "4                 0.8      0.4    1.000000  1.250000      0.08         inf   \n",
            "5                 0.4      0.4    0.500000  1.250000      0.08         1.2   \n",
            "\n",
            "   zhangs_metric  \n",
            "0       0.333333  \n",
            "1       0.222222  \n",
            "2       0.333333  \n",
            "3       0.222222  \n",
            "4       0.333333  \n",
            "5       1.000000  \n"
          ]
        },
        {
          "output_type": "stream",
          "name": "stderr",
          "text": [
            "/usr/local/lib/python3.10/dist-packages/mlxtend/frequent_patterns/fpcommon.py:109: DeprecationWarning: DataFrames with non-bool types result in worse computationalperformance and their support might be discontinued in the future.Please use a DataFrame with bool type\n",
            "  warnings.warn(\n"
          ]
        }
      ]
    },
    {
      "cell_type": "code",
      "source": [
        "import pandas as pd\n",
        "import networkx as nx\n",
        "import matplotlib.pyplot as plt\n",
        "import seaborn as sns\n",
        "\n",
        "# Sample data of association rules (similar to your results)\n",
        "data = {\n",
        "    'antecedents': [\n",
        "        'Exercise_Hours', 'Study_Hours', 'Sleep_Hours', 'Exercise_Hours',\n",
        "        'Sleep_Hours & Study_Hours', 'Exercise_Hours'\n",
        "    ],\n",
        "    'consequents': [\n",
        "        'Study_Hours', 'Exercise_Hours', 'Exercise_Hours', 'Sleep_Hours',\n",
        "        'Exercise_Hours', 'Sleep_Hours & Study_Hours'\n",
        "    ],\n",
        "    'support': [0.6, 0.6, 0.6, 0.6, 0.4, 0.4],\n",
        "    'confidence': [0.75, 0.86, 0.86, 0.75, 1.0, 0.5],\n",
        "    'lift': [1.07, 1.07, 1.07, 1.07, 1.25, 1.25]\n",
        "}\n",
        "rules_df = pd.DataFrame(data)\n",
        "\n",
        "# Network Graph Visualization\n",
        "plt.figure(figsize=(10, 8))\n",
        "G = nx.DiGraph()\n",
        "\n",
        "for i, row in rules_df.iterrows():\n",
        "    G.add_edge(row['antecedents'], row['consequents'], weight=row['confidence'])\n",
        "\n",
        "pos = nx.spring_layout(G, k=1.5)\n",
        "nx.draw(G, pos, with_labels=True, node_size=3000, node_color=\"lightblue\", font_size=10, font_weight=\"bold\", arrows=True)\n",
        "edge_labels = {(row['antecedents'], row['consequents']): f\"Conf: {row['confidence']:.2f}\" for _, row in rules_df.iterrows()}\n",
        "nx.draw_networkx_edge_labels(G, pos, edge_labels=edge_labels, font_color=\"red\")\n",
        "plt.title(\"Association Rules Network Graph\")\n",
        "plt.show()\n",
        "\n",
        "# Scatter Plot of Lift vs. Confidence\n",
        "plt.figure(figsize=(8, 6))\n",
        "sns.scatterplot(x='confidence', y='lift', data=rules_df, s=100, color='purple', edgecolor=\"w\", alpha=0.7)\n",
        "plt.title(\"Scatter Plot of Lift vs. Confidence\")\n",
        "plt.xlabel(\"Confidence\")\n",
        "plt.ylabel(\"Lift\")\n",
        "plt.axhline(1, color='grey', linestyle='--')  # Lift threshold line\n",
        "plt.show()\n",
        "\n",
        "# Bar Plot for Support, Confidence, and Lift for each rule\n",
        "plt.figure(figsize=(12, 6))\n",
        "rules_df.set_index('antecedents').loc[:, ['support', 'confidence', 'lift']].plot(kind='bar', width=0.7, color=['skyblue', 'salmon', 'lightgreen'], edgecolor=\"k\")\n",
        "plt.title(\"Support, Confidence, and Lift of Each Rule\")\n",
        "plt.xlabel(\"Rule (Antecedents)\")\n",
        "plt.ylabel(\"Metric Value\")\n",
        "plt.xticks(rotation=45)\n",
        "plt.legend(title=\"Metrics\")\n",
        "plt.show()\n"
      ],
      "metadata": {
        "colab": {
          "base_uri": "https://localhost:8080/",
          "height": 1000
        },
        "id": "qDWetEPwCyUT",
        "outputId": "f612e086-927b-4c40-939e-5022e70b0233"
      },
      "execution_count": 13,
      "outputs": [
        {
          "output_type": "stream",
          "name": "stderr",
          "text": [
            "/usr/local/lib/python3.10/dist-packages/ipykernel/ipkernel.py:283: DeprecationWarning: `should_run_async` will not call `transform_cell` automatically in the future. Please pass the result to `transformed_cell` argument and any exception that happen during thetransform in `preprocessing_exc_tuple` in IPython 7.17 and above.\n",
            "  and should_run_async(code)\n"
          ]
        },
        {
          "output_type": "display_data",
          "data": {
            "text/plain": [
              "<Figure size 1000x800 with 1 Axes>"
            ],
            "image/png": "[encoded data removed]"
          },
          "metadata": {}
        },
        {
          "output_type": "display_data",
          "data": {
            "text/plain": [
              "<Figure size 800x600 with 1 Axes>"
            ],
            "image/png": "[encoded data removed]"
          },
          "metadata": {}
        },
        {
          "output_type": "display_data",
          "data": {
            "text/plain": [
              "<Figure size 1200x600 with 0 Axes>"
            ]
          },
          "metadata": {}
        },
        {
          "output_type": "display_data",
          "data": {
            "text/plain": [
              "<Figure size 640x480 with 1 Axes>"
            ],
            "image/png": "[encoded data removed]"
          },
          "metadata": {}
        }
      ]
    }
  ]
}